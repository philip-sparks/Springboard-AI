{
 "cells": [
  {
   "cell_type": "markdown",
   "metadata": {},
   "source": [
    "### Add authentication credentials to access Big Query API"
   ]
  },
  {
   "cell_type": "code",
   "execution_count": 1,
   "metadata": {},
   "outputs": [],
   "source": [
    "import os\n",
    "os.environ[\"GOOGLE_APPLICATION_CREDENTIALS\"]=\"/Users/psparks/Documents/Springboard/GDELT Testing-31a7081b0cbc.json\""
   ]
  },
  {
   "cell_type": "markdown",
   "metadata": {},
   "source": [
    "### The BigQuery Python client library provides a magic command that allows you to run queries with minimal code. To load the magic commands from the client library, paste the following code into the first cell of the notebook."
   ]
  },
  {
   "cell_type": "code",
   "execution_count": 2,
   "metadata": {},
   "outputs": [],
   "source": [
    "%load_ext google.cloud.bigquery"
   ]
  },
  {
   "cell_type": "markdown",
   "metadata": {},
   "source": [
    "### The BigQuery client library provides a cell magic,  _%%bigquery_, which runs a SQL query and returns the results as a Pandas DataFrame."
   ]
  },
  {
   "cell_type": "code",
   "execution_count": 9,
   "metadata": {},
   "outputs": [],
   "source": [
    "%%bigquery france_subset\n",
    "SELECT *\n",
    "FROM `gdelt-bq.full.events`\n",
    "WHERE ActionGeo_CountryCode = 'FR' AND MonthYear >= 201601"
   ]
  },
  {
   "cell_type": "code",
   "execution_count": 10,
   "metadata": {},
   "outputs": [
    {
     "data": {
      "text/plain": [
       "(3103885, 58)"
      ]
     },
     "execution_count": 10,
     "metadata": {},
     "output_type": "execute_result"
    }
   ],
   "source": [
    "france_subset.shape"
   ]
  },
  {
   "cell_type": "markdown",
   "metadata": {},
   "source": [
    "### After downloading data, save it for future use"
   ]
  },
  {
   "cell_type": "code",
   "execution_count": 11,
   "metadata": {},
   "outputs": [],
   "source": [
    "france_subset.to_csv('france_subset_1619_2.csv.bz2', header = True, compression='bz2')"
   ]
  },
  {
   "cell_type": "markdown",
   "metadata": {},
   "source": [
    "### Now read it back for future data wrangling"
   ]
  },
  {
   "cell_type": "code",
   "execution_count": 12,
   "metadata": {},
   "outputs": [],
   "source": [
    "import pandas as pd\n",
    "import numpy as np\n",
    "import sqlite3"
   ]
  },
  {
   "cell_type": "code",
   "execution_count": 13,
   "metadata": {},
   "outputs": [
    {
     "name": "stdout",
     "output_type": "stream",
     "text": [
      "<class 'pandas.core.frame.DataFrame'>\n",
      "RangeIndex: 3103885 entries, 0 to 3103884\n",
      "Data columns (total 59 columns):\n",
      "Unnamed: 0               int64\n",
      "GLOBALEVENTID            int64\n",
      "SQLDATE                  int64\n",
      "MonthYear                int64\n",
      "Year                     int64\n",
      "FractionDate             float64\n",
      "Actor1Code               object\n",
      "Actor1Name               object\n",
      "Actor1CountryCode        object\n",
      "Actor1KnownGroupCode     object\n",
      "Actor1EthnicCode         object\n",
      "Actor1Religion1Code      object\n",
      "Actor1Religion2Code      object\n",
      "Actor1Type1Code          object\n",
      "Actor1Type2Code          object\n",
      "Actor1Type3Code          object\n",
      "Actor2Code               object\n",
      "Actor2Name               object\n",
      "Actor2CountryCode        object\n",
      "Actor2KnownGroupCode     object\n",
      "Actor2EthnicCode         object\n",
      "Actor2Religion1Code      object\n",
      "Actor2Religion2Code      object\n",
      "Actor2Type1Code          object\n",
      "Actor2Type2Code          object\n",
      "Actor2Type3Code          object\n",
      "IsRootEvent              int64\n",
      "EventCode                int64\n",
      "EventBaseCode            int64\n",
      "EventRootCode            int64\n",
      "QuadClass                int64\n",
      "GoldsteinScale           float64\n",
      "NumMentions              int64\n",
      "NumSources               int64\n",
      "NumArticles              int64\n",
      "AvgTone                  float64\n",
      "Actor1Geo_Type           int64\n",
      "Actor1Geo_FullName       object\n",
      "Actor1Geo_CountryCode    object\n",
      "Actor1Geo_ADM1Code       object\n",
      "Actor1Geo_Lat            float64\n",
      "Actor1Geo_Long           float64\n",
      "Actor1Geo_FeatureID      object\n",
      "Actor2Geo_Type           int64\n",
      "Actor2Geo_FullName       object\n",
      "Actor2Geo_CountryCode    object\n",
      "Actor2Geo_ADM1Code       object\n",
      "Actor2Geo_Lat            float64\n",
      "Actor2Geo_Long           float64\n",
      "Actor2Geo_FeatureID      object\n",
      "ActionGeo_Type           int64\n",
      "ActionGeo_FullName       object\n",
      "ActionGeo_CountryCode    object\n",
      "ActionGeo_ADM1Code       object\n",
      "ActionGeo_Lat            float64\n",
      "ActionGeo_Long           float64\n",
      "ActionGeo_FeatureID      object\n",
      "DATEADDED                int64\n",
      "SOURCEURL                object\n",
      "dtypes: float64(9), int64(17), object(33)\n",
      "memory usage: 1.4+ GB\n"
     ]
    }
   ],
   "source": [
    "france_subset = pd.read_csv('france_subset_1619_2.csv.bz2', compression='bz2')\n",
    "france_subset.info()"
   ]
  },
  {
   "cell_type": "code",
   "execution_count": 14,
   "metadata": {},
   "outputs": [
    {
     "data": {
      "text/html": [
       "<div>\n",
       "<style scoped>\n",
       "    .dataframe tbody tr th:only-of-type {\n",
       "        vertical-align: middle;\n",
       "    }\n",
       "\n",
       "    .dataframe tbody tr th {\n",
       "        vertical-align: top;\n",
       "    }\n",
       "\n",
       "    .dataframe thead th {\n",
       "        text-align: right;\n",
       "    }\n",
       "</style>\n",
       "<table border=\"1\" class=\"dataframe\">\n",
       "  <thead>\n",
       "    <tr style=\"text-align: right;\">\n",
       "      <th></th>\n",
       "      <th>Unnamed: 0</th>\n",
       "      <th>GLOBALEVENTID</th>\n",
       "      <th>SQLDATE</th>\n",
       "      <th>MonthYear</th>\n",
       "      <th>Year</th>\n",
       "      <th>FractionDate</th>\n",
       "      <th>Actor1Code</th>\n",
       "      <th>Actor1Name</th>\n",
       "      <th>Actor1CountryCode</th>\n",
       "      <th>Actor1KnownGroupCode</th>\n",
       "      <th>...</th>\n",
       "      <th>Actor2Geo_FeatureID</th>\n",
       "      <th>ActionGeo_Type</th>\n",
       "      <th>ActionGeo_FullName</th>\n",
       "      <th>ActionGeo_CountryCode</th>\n",
       "      <th>ActionGeo_ADM1Code</th>\n",
       "      <th>ActionGeo_Lat</th>\n",
       "      <th>ActionGeo_Long</th>\n",
       "      <th>ActionGeo_FeatureID</th>\n",
       "      <th>DATEADDED</th>\n",
       "      <th>SOURCEURL</th>\n",
       "    </tr>\n",
       "  </thead>\n",
       "  <tbody>\n",
       "    <tr>\n",
       "      <th>0</th>\n",
       "      <td>0</td>\n",
       "      <td>523961397</td>\n",
       "      <td>20160324</td>\n",
       "      <td>201603</td>\n",
       "      <td>2016</td>\n",
       "      <td>2016.230100</td>\n",
       "      <td>NaN</td>\n",
       "      <td>NaN</td>\n",
       "      <td>NaN</td>\n",
       "      <td>NaN</td>\n",
       "      <td>...</td>\n",
       "      <td>FR</td>\n",
       "      <td>1</td>\n",
       "      <td>France</td>\n",
       "      <td>FR</td>\n",
       "      <td>FR</td>\n",
       "      <td>46.0000</td>\n",
       "      <td>2.00000</td>\n",
       "      <td>FR</td>\n",
       "      <td>20160324</td>\n",
       "      <td>http://www.goldcoastbulletin.com.au/news/natio...</td>\n",
       "    </tr>\n",
       "    <tr>\n",
       "      <th>1</th>\n",
       "      <td>1</td>\n",
       "      <td>521622559</td>\n",
       "      <td>20160316</td>\n",
       "      <td>201603</td>\n",
       "      <td>2016</td>\n",
       "      <td>2016.208200</td>\n",
       "      <td>NaN</td>\n",
       "      <td>NaN</td>\n",
       "      <td>NaN</td>\n",
       "      <td>NaN</td>\n",
       "      <td>...</td>\n",
       "      <td>FR</td>\n",
       "      <td>1</td>\n",
       "      <td>France</td>\n",
       "      <td>FR</td>\n",
       "      <td>FR</td>\n",
       "      <td>46.0000</td>\n",
       "      <td>2.00000</td>\n",
       "      <td>FR</td>\n",
       "      <td>20160316</td>\n",
       "      <td>http://www.newsmax.com/TheWire/italy-unsold-fo...</td>\n",
       "    </tr>\n",
       "    <tr>\n",
       "      <th>2</th>\n",
       "      <td>2</td>\n",
       "      <td>516418595</td>\n",
       "      <td>20160229</td>\n",
       "      <td>201602</td>\n",
       "      <td>2016</td>\n",
       "      <td>2016.161621</td>\n",
       "      <td>NaN</td>\n",
       "      <td>NaN</td>\n",
       "      <td>NaN</td>\n",
       "      <td>NaN</td>\n",
       "      <td>...</td>\n",
       "      <td>FR</td>\n",
       "      <td>1</td>\n",
       "      <td>France</td>\n",
       "      <td>FR</td>\n",
       "      <td>FR</td>\n",
       "      <td>46.0000</td>\n",
       "      <td>2.00000</td>\n",
       "      <td>FR</td>\n",
       "      <td>20160229</td>\n",
       "      <td>http://www.irishtimes.com/life-and-style/peopl...</td>\n",
       "    </tr>\n",
       "    <tr>\n",
       "      <th>3</th>\n",
       "      <td>3</td>\n",
       "      <td>522928257</td>\n",
       "      <td>20160321</td>\n",
       "      <td>201603</td>\n",
       "      <td>2016</td>\n",
       "      <td>2016.221900</td>\n",
       "      <td>NaN</td>\n",
       "      <td>NaN</td>\n",
       "      <td>NaN</td>\n",
       "      <td>NaN</td>\n",
       "      <td>...</td>\n",
       "      <td>FR</td>\n",
       "      <td>1</td>\n",
       "      <td>France</td>\n",
       "      <td>FR</td>\n",
       "      <td>FR</td>\n",
       "      <td>46.0000</td>\n",
       "      <td>2.00000</td>\n",
       "      <td>FR</td>\n",
       "      <td>20160321</td>\n",
       "      <td>http://www.ibtimes.co.uk/malaysia-palm-oil-cou...</td>\n",
       "    </tr>\n",
       "    <tr>\n",
       "      <th>4</th>\n",
       "      <td>4</td>\n",
       "      <td>538837301</td>\n",
       "      <td>20160510</td>\n",
       "      <td>201605</td>\n",
       "      <td>2016</td>\n",
       "      <td>2016.356200</td>\n",
       "      <td>NaN</td>\n",
       "      <td>NaN</td>\n",
       "      <td>NaN</td>\n",
       "      <td>NaN</td>\n",
       "      <td>...</td>\n",
       "      <td>-1409795</td>\n",
       "      <td>4</td>\n",
       "      <td>French Riviera, France (general), France</td>\n",
       "      <td>FR</td>\n",
       "      <td>FR00</td>\n",
       "      <td>43.5599</td>\n",
       "      <td>7.13672</td>\n",
       "      <td>-1409795</td>\n",
       "      <td>20160510</td>\n",
       "      <td>http://movies.ndtv.com/bollywood/en-route-cann...</td>\n",
       "    </tr>\n",
       "  </tbody>\n",
       "</table>\n",
       "<p>5 rows × 59 columns</p>\n",
       "</div>"
      ],
      "text/plain": [
       "   Unnamed: 0  GLOBALEVENTID   SQLDATE  MonthYear  Year  FractionDate  \\\n",
       "0           0      523961397  20160324     201603  2016   2016.230100   \n",
       "1           1      521622559  20160316     201603  2016   2016.208200   \n",
       "2           2      516418595  20160229     201602  2016   2016.161621   \n",
       "3           3      522928257  20160321     201603  2016   2016.221900   \n",
       "4           4      538837301  20160510     201605  2016   2016.356200   \n",
       "\n",
       "  Actor1Code Actor1Name Actor1CountryCode Actor1KnownGroupCode  \\\n",
       "0        NaN        NaN               NaN                  NaN   \n",
       "1        NaN        NaN               NaN                  NaN   \n",
       "2        NaN        NaN               NaN                  NaN   \n",
       "3        NaN        NaN               NaN                  NaN   \n",
       "4        NaN        NaN               NaN                  NaN   \n",
       "\n",
       "                         ...                         Actor2Geo_FeatureID  \\\n",
       "0                        ...                                          FR   \n",
       "1                        ...                                          FR   \n",
       "2                        ...                                          FR   \n",
       "3                        ...                                          FR   \n",
       "4                        ...                                    -1409795   \n",
       "\n",
       "  ActionGeo_Type                        ActionGeo_FullName  \\\n",
       "0              1                                    France   \n",
       "1              1                                    France   \n",
       "2              1                                    France   \n",
       "3              1                                    France   \n",
       "4              4  French Riviera, France (general), France   \n",
       "\n",
       "  ActionGeo_CountryCode ActionGeo_ADM1Code ActionGeo_Lat ActionGeo_Long  \\\n",
       "0                    FR                 FR       46.0000        2.00000   \n",
       "1                    FR                 FR       46.0000        2.00000   \n",
       "2                    FR                 FR       46.0000        2.00000   \n",
       "3                    FR                 FR       46.0000        2.00000   \n",
       "4                    FR               FR00       43.5599        7.13672   \n",
       "\n",
       "  ActionGeo_FeatureID DATEADDED  \\\n",
       "0                  FR  20160324   \n",
       "1                  FR  20160316   \n",
       "2                  FR  20160229   \n",
       "3                  FR  20160321   \n",
       "4            -1409795  20160510   \n",
       "\n",
       "                                           SOURCEURL  \n",
       "0  http://www.goldcoastbulletin.com.au/news/natio...  \n",
       "1  http://www.newsmax.com/TheWire/italy-unsold-fo...  \n",
       "2  http://www.irishtimes.com/life-and-style/peopl...  \n",
       "3  http://www.ibtimes.co.uk/malaysia-palm-oil-cou...  \n",
       "4  http://movies.ndtv.com/bollywood/en-route-cann...  \n",
       "\n",
       "[5 rows x 59 columns]"
      ]
     },
     "execution_count": 14,
     "metadata": {},
     "output_type": "execute_result"
    }
   ],
   "source": [
    "france_subset.head()"
   ]
  }
 ],
 "metadata": {
  "kernelspec": {
   "display_name": "Python 3",
   "language": "python",
   "name": "python3"
  },
  "language_info": {
   "codemirror_mode": {
    "name": "ipython",
    "version": 3
   },
   "file_extension": ".py",
   "mimetype": "text/x-python",
   "name": "python",
   "nbconvert_exporter": "python",
   "pygments_lexer": "ipython3",
   "version": "3.6.5"
  }
 },
 "nbformat": 4,
 "nbformat_minor": 2
}
